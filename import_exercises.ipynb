{
 "cells": [
  {
   "cell_type": "code",
   "execution_count": 5,
   "id": "c759434e",
   "metadata": {},
   "outputs": [
    {
     "name": "stdout",
     "output_type": "stream",
     "text": [
      "False\n"
     ]
    }
   ],
   "source": [
    "## 1. Import and test 3 of the functions from your functions exercise file. Import each function in a different way:\n",
    "\n",
    "## a. Run an interactive python session and import the module. Call the is_vowel function using the . syntax.\n",
    "\n",
    "import function_exercises \n",
    "\n",
    "function_exercises.is_vowel('b')\n",
    "print(function_exercises.is_vowel('b'))"
   ]
  },
  {
   "cell_type": "code",
   "execution_count": 6,
   "id": "48ff9454",
   "metadata": {},
   "outputs": [
    {
     "name": "stdout",
     "output_type": "stream",
     "text": [
      "10.0\n"
     ]
    }
   ],
   "source": [
    "## b. Create a file named import_exericses.py. Within this file, use from to import the calculate_tip function \n",
    "## directly. Call this function with values you choose and print the result.\n",
    "\n",
    "function_exercises.calculate_tip(100, .10)\n",
    "print(function_exercises.calculate_tip(100, .10))"
   ]
  },
  {
   "cell_type": "code",
   "execution_count": null,
   "id": "e10eee15",
   "metadata": {},
   "outputs": [],
   "source": [
    "## c. Create a jupyter notebook named import_exercises.ipynb. Use from to import the get_letter_grade function \n",
    "## and give it an alias. Test this function in your notebook.\n",
    "## DIDN'T FINISH get_letter_grade"
   ]
  },
  {
   "cell_type": "code",
   "execution_count": 8,
   "id": "b52cd51e",
   "metadata": {},
   "outputs": [
    {
     "name": "stdout",
     "output_type": "stream",
     "text": [
      "<itertools.permutations object at 0x7f96412a9040>\n"
     ]
    }
   ],
   "source": [
    "## 2. Read about and use the itertools module from the python standard library to help you solve the following \n",
    "## problems:\n",
    "\n",
    "## a. How many different ways can you combine the letters from \"abc\" with the numbers 1, 2, and 3?\n",
    "\n",
    "import itertools\n",
    "\n",
    "itertools.permutations('abc123', 2)\n",
    "print(itertools.permutations('abc123', 2))"
   ]
  },
  {
   "cell_type": "code",
   "execution_count": null,
   "id": "9cceae33",
   "metadata": {},
   "outputs": [],
   "source": [
    "## b. How many different combinations are there of 2 letters from \"abcd\"?\n"
   ]
  },
  {
   "cell_type": "code",
   "execution_count": null,
   "id": "972317f9",
   "metadata": {},
   "outputs": [],
   "source": [
    "## c. How many different permutations are there of 2 letters from \"abcd\"?\n"
   ]
  },
  {
   "cell_type": "code",
   "execution_count": null,
   "id": "1839498d",
   "metadata": {},
   "outputs": [],
   "source": [
    "## 3. Save this file as profiles.json inside of your exercises directory (right click -> save file as...).\n"
   ]
  },
  {
   "cell_type": "code",
   "execution_count": null,
   "id": "33bd71a1",
   "metadata": {},
   "outputs": [],
   "source": []
  }
 ],
 "metadata": {
  "kernelspec": {
   "display_name": "Python 3",
   "language": "python",
   "name": "python3"
  },
  "language_info": {
   "codemirror_mode": {
    "name": "ipython",
    "version": 3
   },
   "file_extension": ".py",
   "mimetype": "text/x-python",
   "name": "python",
   "nbconvert_exporter": "python",
   "pygments_lexer": "ipython3",
   "version": "3.8.8"
  }
 },
 "nbformat": 4,
 "nbformat_minor": 5
}
